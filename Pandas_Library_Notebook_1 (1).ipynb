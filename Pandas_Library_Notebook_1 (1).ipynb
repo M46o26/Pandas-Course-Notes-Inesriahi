{
  "nbformat": 4,
  "nbformat_minor": 0,
  "metadata": {
    "colab": {
      "provenance": [],
      "collapsed_sections": [
        "JVOayDwXhRgo",
        "GHL0tRsa3UuK",
        "9dR9Ldw4nrl5",
        "DyDA3EtcbMgD",
        "6kxRxwglTHYm"
      ],
      "toc_visible": true
    },
    "kernelspec": {
      "name": "python3",
      "display_name": "Python 3"
    },
    "language_info": {
      "name": "python"
    }
  },
  "cells": [
    {
      "cell_type": "markdown",
      "source": [
        "# **Pandas Library**\n",
        "\n",
        "---\n",
        "\n",
        "\n",
        "\n"
      ],
      "metadata": {
        "id": "KxgetbhkheeK"
      }
    },
    {
      "cell_type": "markdown",
      "source": [
        "# **Part 1 : Intro & Creating Series Objects**\n",
        "\n",
        "\n",
        "---\n",
        "\n"
      ],
      "metadata": {
        "id": "JVOayDwXhRgo"
      }
    },
    {
      "cell_type": "code",
      "execution_count": null,
      "metadata": {
        "id": "21SMpQgigtul"
      },
      "outputs": [],
      "source": [
        "# Importing required libraries\n",
        "# We need Pandas for data handling and Numpy for numerical operations\n",
        "import pandas as pd\n",
        "import numpy as np"
      ]
    },
    {
      "cell_type": "code",
      "source": [
        "# Creating a Series from a list\n",
        "# A Series is a one-dimensional labeled array\n",
        "Ls=[1,2,4,9,87]\n",
        "data=pd.Series(Ls)\n",
        "data"
      ],
      "metadata": {
        "id": "W2ayrnKjtk6N"
      },
      "execution_count": null,
      "outputs": []
    },
    {
      "cell_type": "code",
      "source": [
        "# Accessing the values inside the Series\n",
        "# This will return a NumPy array of the values\n",
        "data.values"
      ],
      "metadata": {
        "id": "NNEtzAjhuhJW"
      },
      "execution_count": null,
      "outputs": []
    },
    {
      "cell_type": "code",
      "source": [
        "# Indexing like a regular Python list\n",
        "# You can access elements using integer-based positions\n",
        "data[0]   # Output: 1\n",
        "data[4]   # Output: 87"
      ],
      "metadata": {
        "id": "a-EhoKNauJYX"
      },
      "execution_count": null,
      "outputs": []
    },
    {
      "cell_type": "code",
      "source": [
        "# Custom Indexing\n",
        "# You can assign custom labels to the Series instead of default numeric indexes\n",
        "data=pd.Series(Ls,index=[\"First Element\",\"Second Element\",\"Third Element\",\"Forth Element\",\"Fifth Element\"])\n",
        "data"
      ],
      "metadata": {
        "id": "8whkeCWguxA_"
      },
      "execution_count": null,
      "outputs": []
    },
    {
      "cell_type": "code",
      "source": [
        "# Attempting to access a non-existent label\n",
        "# This will raise a KeyError because the label doesn't exist\n",
        "data[\"First Element\"]"
      ],
      "metadata": {
        "id": "t0NLvDFpvn3E"
      },
      "execution_count": null,
      "outputs": []
    },
    {
      "cell_type": "code",
      "source": [
        "# Creating a Series from a dictionary\n",
        "# Keys become the index, and values become the data\n",
        "My_dict={\"Name\":\"Alex\",\n",
        "         \"Age\":29,\n",
        "         \"Job\":\"Junior Manger\",\n",
        "         \"Salary\":25000\n",
        "}\n",
        "d1=pd.Series(My_dict)\n",
        "d1"
      ],
      "metadata": {
        "id": "71LmpEPSvuCf"
      },
      "execution_count": null,
      "outputs": []
    },
    {
      "cell_type": "code",
      "source": [
        "# Slicing using string indexes (label-based)\n",
        "# When slicing with string labels, the end label IS included\n",
        "d1['Name':'Job']"
      ],
      "metadata": {
        "id": "TxE1uS42woBk"
      },
      "execution_count": null,
      "outputs": []
    },
    {
      "cell_type": "code",
      "source": [
        "# Slicing using integer indexes (position-based)\n",
        "# When slicing with integer positions, the end index is NOT included\n",
        "d1[0:2]"
      ],
      "metadata": {
        "id": "UfUELL2Dwwwb"
      },
      "execution_count": null,
      "outputs": []
    },
    {
      "cell_type": "markdown",
      "source": [
        "# **Part 2 : Creating DataFrames**\n",
        "\n",
        "---\n",
        "\n",
        "\n",
        "\n",
        "\n",
        "\n"
      ],
      "metadata": {
        "id": "GHL0tRsa3UuK"
      }
    },
    {
      "cell_type": "code",
      "source": [
        "# Import essential libraries\n",
        "# pandas: for data manipulation and analysis\n",
        "# numpy: for efficient numerical computations\n",
        "import pandas as pd\n",
        "import numpy as np"
      ],
      "metadata": {
        "id": "efASROe73bqi"
      },
      "execution_count": null,
      "outputs": []
    },
    {
      "cell_type": "code",
      "source": [
        "# Creating a DataFrame using two Series\n",
        "\n",
        "# Series representing population for each city\n",
        "population_dict = {\n",
        "    'Baghdad': 7655695,\n",
        "    'Tunis': 633894,\n",
        "    'Algeria': 3569126,\n",
        "    'Riyadh': 7678935,\n",
        "    'Cairo': 9568232\n",
        "}\n",
        "population = pd.Series(population_dict)\n",
        "\n",
        "# Series representing area (in km²) for each city\n",
        "area_dict = {\n",
        "    'Baghdad': 204,\n",
        "    'Tunis': 212,\n",
        "    'Algeria': 1190,\n",
        "    'Riyadh': 1973,\n",
        "    'Cairo': 3085\n",
        "}\n",
        "area = pd.Series(area_dict)\n",
        "\n",
        "# Creating a DataFrame by combining the two Series\n",
        "data_1 = pd.DataFrame({\n",
        "    \"Population\": population,\n",
        "    \"Area\": area\n",
        "})\n",
        "\n",
        "# Display the resulting DataFrame\n",
        "data_1\n"
      ],
      "metadata": {
        "id": "RSulX3XXQ8H9"
      },
      "execution_count": null,
      "outputs": []
    },
    {
      "cell_type": "code",
      "source": [
        "# Creating a DataFrame directly from a dictionary\n",
        "\n",
        "# Each key in the dictionary represents a column,\n",
        "# and each value is a list of values for that column.\n",
        "# We also define the row index manually.\n",
        "\n",
        "data_2 = pd.DataFrame(\n",
        "    {\n",
        "        \"Population\": [7655695, 633894, 3569126, 7678935, 9568232],\n",
        "        \"Area\": [204, 212, 1190, 1973, 3085]\n",
        "    },\n",
        "    index=['Baghdad', 'Tunis', 'Algeria', 'Riyadh', 'Cairo']\n",
        ")\n",
        "\n",
        "# Display the DataFrame\n",
        "data_2\n"
      ],
      "metadata": {
        "id": "sQPImL7lSUNa"
      },
      "execution_count": null,
      "outputs": []
    },
    {
      "cell_type": "code",
      "source": [
        "# Accessing the index (row labels) of the DataFrame\n",
        "data_1.index"
      ],
      "metadata": {
        "id": "Sutf99iTUwG-"
      },
      "execution_count": null,
      "outputs": []
    },
    {
      "cell_type": "code",
      "source": [
        "# Accessing the column labels of the DataFrame\n",
        "data_1.columns"
      ],
      "metadata": {
        "id": "VhHam3FqVCCm"
      },
      "execution_count": null,
      "outputs": []
    },
    {
      "cell_type": "code",
      "source": [
        "# Accessing a specific column by its label\n",
        "data_1['Area']"
      ],
      "metadata": {
        "id": "Ct1I3YrIVRIo"
      },
      "execution_count": null,
      "outputs": []
    },
    {
      "cell_type": "code",
      "source": [
        "# If We Want Specific Value from The DataFrame We Will use This   data['column name']['Row Name]\n",
        "data_1['Area']['Cairo']"
      ],
      "metadata": {
        "id": "IhkJaMZEVh9k"
      },
      "execution_count": null,
      "outputs": []
    },
    {
      "cell_type": "code",
      "source": [
        "# Creating a DataFrame from a single Series\n",
        "# 'area' Series will become one column named 'Area'\n",
        "pd.DataFrame(area, columns=['Area'])"
      ],
      "metadata": {
        "id": "jpObU3IeiFf-"
      },
      "execution_count": null,
      "outputs": []
    },
    {
      "cell_type": "code",
      "source": [
        "# Creating a DataFrame from a single Series using a dictionary\n",
        "# The key becomes the column name, and the Series becomes the column data\n",
        "pd.DataFrame({\"Area\": area})\n"
      ],
      "metadata": {
        "id": "dw8iXDhai7qr"
      },
      "execution_count": null,
      "outputs": []
    },
    {
      "cell_type": "code",
      "source": [
        "# Creating a DataFrame from a list of dictionaries\n",
        "# Each dictionary represents a row, and keys are used as column names\n",
        "lst = [{'a': 0, 'b': 0}, {'a': 1, 'b': 2}, {'a': 2, 'b': 4}]\n",
        "pd.DataFrame(lst, index=['First', 'Second', 'Third'])"
      ],
      "metadata": {
        "id": "nmgRIYgEjG9_"
      },
      "execution_count": null,
      "outputs": []
    },
    {
      "cell_type": "code",
      "source": [
        "# Creating a DataFrame from a dynamically generated list of dictionaries\n",
        "# Each dictionary represents a row with 'a' as a number and 'b' as double that number\n",
        "d2 = [{'a': i, 'b': 2 * i} for i in range(3)]\n",
        "pd.DataFrame(d2, index=['First', 'Second', 'Third'])"
      ],
      "metadata": {
        "id": "HM5SWBpekYWY"
      },
      "execution_count": null,
      "outputs": []
    },
    {
      "cell_type": "code",
      "source": [
        "# Creating a DataFrame with missing values\n",
        "# If a dictionary is missing a key, pandas automatically fills that cell with NaN (Not a Number)\n",
        "mis_lst = [{'a': 1, 'b': 2}, {'b': 3, 'c': 4}]\n",
        "pd.DataFrame(mis_lst, index=['First', 'Second'])"
      ],
      "metadata": {
        "id": "kn9Pixhykx8O"
      },
      "execution_count": null,
      "outputs": []
    },
    {
      "cell_type": "code",
      "source": [
        "# Creating a DataFrame from a 2D NumPy array\n",
        "\n",
        "# Generate 30 random integers between 1 and 20 (inclusive)\n",
        "# Reshape the array into a matrix with 10 rows and 3 columns\n",
        "ze = np.random.randint(1, 21, 30).reshape(10, 3)\n",
        "\n",
        "# Convert the NumPy array into a DataFrame with named columns\n",
        "pd.DataFrame(ze, columns=['C1', 'C2', 'C3'])\n"
      ],
      "metadata": {
        "colab": {
          "base_uri": "https://localhost:8080/",
          "height": 363
        },
        "id": "tCfnUQX4lUy-",
        "outputId": "459b23a8-497e-4199-8d3c-98f01f28e282"
      },
      "execution_count": null,
      "outputs": [
        {
          "output_type": "execute_result",
          "data": {
            "text/plain": [
              "   C1  C2  C3\n",
              "0   3  16   3\n",
              "1  17  18  16\n",
              "2   1  19   2\n",
              "3  14  11   5\n",
              "4   8   6   3\n",
              "5   8  11   3\n",
              "6   9  14  14\n",
              "7   7   8  20\n",
              "8   5  12   6\n",
              "9  11  14   8"
            ],
            "text/html": [
              "\n",
              "  <div id=\"df-9645476c-c7c5-4f86-b70e-648eac38c804\" class=\"colab-df-container\">\n",
              "    <div>\n",
              "<style scoped>\n",
              "    .dataframe tbody tr th:only-of-type {\n",
              "        vertical-align: middle;\n",
              "    }\n",
              "\n",
              "    .dataframe tbody tr th {\n",
              "        vertical-align: top;\n",
              "    }\n",
              "\n",
              "    .dataframe thead th {\n",
              "        text-align: right;\n",
              "    }\n",
              "</style>\n",
              "<table border=\"1\" class=\"dataframe\">\n",
              "  <thead>\n",
              "    <tr style=\"text-align: right;\">\n",
              "      <th></th>\n",
              "      <th>C1</th>\n",
              "      <th>C2</th>\n",
              "      <th>C3</th>\n",
              "    </tr>\n",
              "  </thead>\n",
              "  <tbody>\n",
              "    <tr>\n",
              "      <th>0</th>\n",
              "      <td>3</td>\n",
              "      <td>16</td>\n",
              "      <td>3</td>\n",
              "    </tr>\n",
              "    <tr>\n",
              "      <th>1</th>\n",
              "      <td>17</td>\n",
              "      <td>18</td>\n",
              "      <td>16</td>\n",
              "    </tr>\n",
              "    <tr>\n",
              "      <th>2</th>\n",
              "      <td>1</td>\n",
              "      <td>19</td>\n",
              "      <td>2</td>\n",
              "    </tr>\n",
              "    <tr>\n",
              "      <th>3</th>\n",
              "      <td>14</td>\n",
              "      <td>11</td>\n",
              "      <td>5</td>\n",
              "    </tr>\n",
              "    <tr>\n",
              "      <th>4</th>\n",
              "      <td>8</td>\n",
              "      <td>6</td>\n",
              "      <td>3</td>\n",
              "    </tr>\n",
              "    <tr>\n",
              "      <th>5</th>\n",
              "      <td>8</td>\n",
              "      <td>11</td>\n",
              "      <td>3</td>\n",
              "    </tr>\n",
              "    <tr>\n",
              "      <th>6</th>\n",
              "      <td>9</td>\n",
              "      <td>14</td>\n",
              "      <td>14</td>\n",
              "    </tr>\n",
              "    <tr>\n",
              "      <th>7</th>\n",
              "      <td>7</td>\n",
              "      <td>8</td>\n",
              "      <td>20</td>\n",
              "    </tr>\n",
              "    <tr>\n",
              "      <th>8</th>\n",
              "      <td>5</td>\n",
              "      <td>12</td>\n",
              "      <td>6</td>\n",
              "    </tr>\n",
              "    <tr>\n",
              "      <th>9</th>\n",
              "      <td>11</td>\n",
              "      <td>14</td>\n",
              "      <td>8</td>\n",
              "    </tr>\n",
              "  </tbody>\n",
              "</table>\n",
              "</div>\n",
              "    <div class=\"colab-df-buttons\">\n",
              "\n",
              "  <div class=\"colab-df-container\">\n",
              "    <button class=\"colab-df-convert\" onclick=\"convertToInteractive('df-9645476c-c7c5-4f86-b70e-648eac38c804')\"\n",
              "            title=\"Convert this dataframe to an interactive table.\"\n",
              "            style=\"display:none;\">\n",
              "\n",
              "  <svg xmlns=\"http://www.w3.org/2000/svg\" height=\"24px\" viewBox=\"0 -960 960 960\">\n",
              "    <path d=\"M120-120v-720h720v720H120Zm60-500h600v-160H180v160Zm220 220h160v-160H400v160Zm0 220h160v-160H400v160ZM180-400h160v-160H180v160Zm440 0h160v-160H620v160ZM180-180h160v-160H180v160Zm440 0h160v-160H620v160Z\"/>\n",
              "  </svg>\n",
              "    </button>\n",
              "\n",
              "  <style>\n",
              "    .colab-df-container {\n",
              "      display:flex;\n",
              "      gap: 12px;\n",
              "    }\n",
              "\n",
              "    .colab-df-convert {\n",
              "      background-color: #E8F0FE;\n",
              "      border: none;\n",
              "      border-radius: 50%;\n",
              "      cursor: pointer;\n",
              "      display: none;\n",
              "      fill: #1967D2;\n",
              "      height: 32px;\n",
              "      padding: 0 0 0 0;\n",
              "      width: 32px;\n",
              "    }\n",
              "\n",
              "    .colab-df-convert:hover {\n",
              "      background-color: #E2EBFA;\n",
              "      box-shadow: 0px 1px 2px rgba(60, 64, 67, 0.3), 0px 1px 3px 1px rgba(60, 64, 67, 0.15);\n",
              "      fill: #174EA6;\n",
              "    }\n",
              "\n",
              "    .colab-df-buttons div {\n",
              "      margin-bottom: 4px;\n",
              "    }\n",
              "\n",
              "    [theme=dark] .colab-df-convert {\n",
              "      background-color: #3B4455;\n",
              "      fill: #D2E3FC;\n",
              "    }\n",
              "\n",
              "    [theme=dark] .colab-df-convert:hover {\n",
              "      background-color: #434B5C;\n",
              "      box-shadow: 0px 1px 3px 1px rgba(0, 0, 0, 0.15);\n",
              "      filter: drop-shadow(0px 1px 2px rgba(0, 0, 0, 0.3));\n",
              "      fill: #FFFFFF;\n",
              "    }\n",
              "  </style>\n",
              "\n",
              "    <script>\n",
              "      const buttonEl =\n",
              "        document.querySelector('#df-9645476c-c7c5-4f86-b70e-648eac38c804 button.colab-df-convert');\n",
              "      buttonEl.style.display =\n",
              "        google.colab.kernel.accessAllowed ? 'block' : 'none';\n",
              "\n",
              "      async function convertToInteractive(key) {\n",
              "        const element = document.querySelector('#df-9645476c-c7c5-4f86-b70e-648eac38c804');\n",
              "        const dataTable =\n",
              "          await google.colab.kernel.invokeFunction('convertToInteractive',\n",
              "                                                    [key], {});\n",
              "        if (!dataTable) return;\n",
              "\n",
              "        const docLinkHtml = 'Like what you see? Visit the ' +\n",
              "          '<a target=\"_blank\" href=https://colab.research.google.com/notebooks/data_table.ipynb>data table notebook</a>'\n",
              "          + ' to learn more about interactive tables.';\n",
              "        element.innerHTML = '';\n",
              "        dataTable['output_type'] = 'display_data';\n",
              "        await google.colab.output.renderOutput(dataTable, element);\n",
              "        const docLink = document.createElement('div');\n",
              "        docLink.innerHTML = docLinkHtml;\n",
              "        element.appendChild(docLink);\n",
              "      }\n",
              "    </script>\n",
              "  </div>\n",
              "\n",
              "\n",
              "    <div id=\"df-fb90e87e-4fd0-42e6-826f-c3569e10268d\">\n",
              "      <button class=\"colab-df-quickchart\" onclick=\"quickchart('df-fb90e87e-4fd0-42e6-826f-c3569e10268d')\"\n",
              "                title=\"Suggest charts\"\n",
              "                style=\"display:none;\">\n",
              "\n",
              "<svg xmlns=\"http://www.w3.org/2000/svg\" height=\"24px\"viewBox=\"0 0 24 24\"\n",
              "     width=\"24px\">\n",
              "    <g>\n",
              "        <path d=\"M19 3H5c-1.1 0-2 .9-2 2v14c0 1.1.9 2 2 2h14c1.1 0 2-.9 2-2V5c0-1.1-.9-2-2-2zM9 17H7v-7h2v7zm4 0h-2V7h2v10zm4 0h-2v-4h2v4z\"/>\n",
              "    </g>\n",
              "</svg>\n",
              "      </button>\n",
              "\n",
              "<style>\n",
              "  .colab-df-quickchart {\n",
              "      --bg-color: #E8F0FE;\n",
              "      --fill-color: #1967D2;\n",
              "      --hover-bg-color: #E2EBFA;\n",
              "      --hover-fill-color: #174EA6;\n",
              "      --disabled-fill-color: #AAA;\n",
              "      --disabled-bg-color: #DDD;\n",
              "  }\n",
              "\n",
              "  [theme=dark] .colab-df-quickchart {\n",
              "      --bg-color: #3B4455;\n",
              "      --fill-color: #D2E3FC;\n",
              "      --hover-bg-color: #434B5C;\n",
              "      --hover-fill-color: #FFFFFF;\n",
              "      --disabled-bg-color: #3B4455;\n",
              "      --disabled-fill-color: #666;\n",
              "  }\n",
              "\n",
              "  .colab-df-quickchart {\n",
              "    background-color: var(--bg-color);\n",
              "    border: none;\n",
              "    border-radius: 50%;\n",
              "    cursor: pointer;\n",
              "    display: none;\n",
              "    fill: var(--fill-color);\n",
              "    height: 32px;\n",
              "    padding: 0;\n",
              "    width: 32px;\n",
              "  }\n",
              "\n",
              "  .colab-df-quickchart:hover {\n",
              "    background-color: var(--hover-bg-color);\n",
              "    box-shadow: 0 1px 2px rgba(60, 64, 67, 0.3), 0 1px 3px 1px rgba(60, 64, 67, 0.15);\n",
              "    fill: var(--button-hover-fill-color);\n",
              "  }\n",
              "\n",
              "  .colab-df-quickchart-complete:disabled,\n",
              "  .colab-df-quickchart-complete:disabled:hover {\n",
              "    background-color: var(--disabled-bg-color);\n",
              "    fill: var(--disabled-fill-color);\n",
              "    box-shadow: none;\n",
              "  }\n",
              "\n",
              "  .colab-df-spinner {\n",
              "    border: 2px solid var(--fill-color);\n",
              "    border-color: transparent;\n",
              "    border-bottom-color: var(--fill-color);\n",
              "    animation:\n",
              "      spin 1s steps(1) infinite;\n",
              "  }\n",
              "\n",
              "  @keyframes spin {\n",
              "    0% {\n",
              "      border-color: transparent;\n",
              "      border-bottom-color: var(--fill-color);\n",
              "      border-left-color: var(--fill-color);\n",
              "    }\n",
              "    20% {\n",
              "      border-color: transparent;\n",
              "      border-left-color: var(--fill-color);\n",
              "      border-top-color: var(--fill-color);\n",
              "    }\n",
              "    30% {\n",
              "      border-color: transparent;\n",
              "      border-left-color: var(--fill-color);\n",
              "      border-top-color: var(--fill-color);\n",
              "      border-right-color: var(--fill-color);\n",
              "    }\n",
              "    40% {\n",
              "      border-color: transparent;\n",
              "      border-right-color: var(--fill-color);\n",
              "      border-top-color: var(--fill-color);\n",
              "    }\n",
              "    60% {\n",
              "      border-color: transparent;\n",
              "      border-right-color: var(--fill-color);\n",
              "    }\n",
              "    80% {\n",
              "      border-color: transparent;\n",
              "      border-right-color: var(--fill-color);\n",
              "      border-bottom-color: var(--fill-color);\n",
              "    }\n",
              "    90% {\n",
              "      border-color: transparent;\n",
              "      border-bottom-color: var(--fill-color);\n",
              "    }\n",
              "  }\n",
              "</style>\n",
              "\n",
              "      <script>\n",
              "        async function quickchart(key) {\n",
              "          const quickchartButtonEl =\n",
              "            document.querySelector('#' + key + ' button');\n",
              "          quickchartButtonEl.disabled = true;  // To prevent multiple clicks.\n",
              "          quickchartButtonEl.classList.add('colab-df-spinner');\n",
              "          try {\n",
              "            const charts = await google.colab.kernel.invokeFunction(\n",
              "                'suggestCharts', [key], {});\n",
              "          } catch (error) {\n",
              "            console.error('Error during call to suggestCharts:', error);\n",
              "          }\n",
              "          quickchartButtonEl.classList.remove('colab-df-spinner');\n",
              "          quickchartButtonEl.classList.add('colab-df-quickchart-complete');\n",
              "        }\n",
              "        (() => {\n",
              "          let quickchartButtonEl =\n",
              "            document.querySelector('#df-fb90e87e-4fd0-42e6-826f-c3569e10268d button');\n",
              "          quickchartButtonEl.style.display =\n",
              "            google.colab.kernel.accessAllowed ? 'block' : 'none';\n",
              "        })();\n",
              "      </script>\n",
              "    </div>\n",
              "\n",
              "    </div>\n",
              "  </div>\n"
            ],
            "application/vnd.google.colaboratory.intrinsic+json": {
              "type": "dataframe",
              "summary": "{\n  \"name\": \"pd\",\n  \"rows\": 10,\n  \"fields\": [\n    {\n      \"column\": \"C1\",\n      \"properties\": {\n        \"dtype\": \"number\",\n        \"std\": 4,\n        \"min\": 1,\n        \"max\": 17,\n        \"num_unique_values\": 9,\n        \"samples\": [\n          5,\n          17,\n          9\n        ],\n        \"semantic_type\": \"\",\n        \"description\": \"\"\n      }\n    },\n    {\n      \"column\": \"C2\",\n      \"properties\": {\n        \"dtype\": \"number\",\n        \"std\": 4,\n        \"min\": 6,\n        \"max\": 19,\n        \"num_unique_values\": 8,\n        \"samples\": [\n          18,\n          14,\n          16\n        ],\n        \"semantic_type\": \"\",\n        \"description\": \"\"\n      }\n    },\n    {\n      \"column\": \"C3\",\n      \"properties\": {\n        \"dtype\": \"number\",\n        \"std\": 6,\n        \"min\": 2,\n        \"max\": 20,\n        \"num_unique_values\": 8,\n        \"samples\": [\n          16,\n          20,\n          3\n        ],\n        \"semantic_type\": \"\",\n        \"description\": \"\"\n      }\n    }\n  ]\n}"
            }
          },
          "metadata": {},
          "execution_count": 25
        }
      ]
    },
    {
      "cell_type": "markdown",
      "source": [
        "# **Part 3 : Indexing & Selection**\n",
        "\n",
        "\n",
        "\n",
        "\n"
      ],
      "metadata": {
        "id": "9dR9Ldw4nrl5"
      }
    },
    {
      "cell_type": "code",
      "source": [
        "# Loading real-world ramen rating data from Kaggle\n",
        "# Source: https://www.kaggle.com/datasets/residentmario/ramen-ratings\n",
        "# Each row represents a review of a specific ramen product\n",
        "\n",
        "df = pd.read_csv('ramen-ratings.csv')  # Make sure the CSV is in the same directory\n",
        "df\n"
      ],
      "metadata": {
        "id": "L5dJQ4BIF9rw"
      },
      "execution_count": null,
      "outputs": []
    },
    {
      "cell_type": "code",
      "source": [
        "# Display the first N rows of the DataFrame using .head(N)\n",
        "# If no value is passed, it returns the first 5 rows by default\n",
        "df.head()\n"
      ],
      "metadata": {
        "id": "nz2NxUMTIWnT"
      },
      "execution_count": null,
      "outputs": []
    },
    {
      "cell_type": "code",
      "source": [
        "# Selecting the 'Country' column from the DataFrame\n",
        "# This returns a Series containing all country values\n",
        "df['Country']"
      ],
      "metadata": {
        "id": "Nf4RU2BbIg9_"
      },
      "execution_count": null,
      "outputs": []
    },
    {
      "cell_type": "code",
      "source": [
        "# Alternative way to select the 'Country' column using dot notation\n",
        "# Only works if the column name has no spaces or special characters (except underscores)\n",
        "df.Country"
      ],
      "metadata": {
        "id": "tNELZy3GJLel"
      },
      "execution_count": null,
      "outputs": []
    },
    {
      "cell_type": "code",
      "source": [
        "# Index-based selection using .iloc[row_index, column_index]\n",
        "# This selects the first row (index 0) and all columns\n",
        "df.iloc[0, :]"
      ],
      "metadata": {
        "id": "6iBcY_pPJvf4"
      },
      "execution_count": null,
      "outputs": []
    },
    {
      "cell_type": "code",
      "source": [
        "# Selecting the first column (index 0) across all rows using iloc\n",
        "df.iloc[:, 0]"
      ],
      "metadata": {
        "id": "F74jJThFMeCP"
      },
      "execution_count": null,
      "outputs": []
    },
    {
      "cell_type": "code",
      "source": [
        "# Selecting the first 3 rows and all columns using iloc\n",
        "# This is equivalent to df.head(3)\n",
        "df.iloc[:3, :]"
      ],
      "metadata": {
        "id": "Mj9S4L0dMuGl"
      },
      "execution_count": null,
      "outputs": []
    },
    {
      "cell_type": "code",
      "source": [
        "# Selecting the last column across all rows using iloc and negative indexing\n",
        "df.iloc[:, -1]"
      ],
      "metadata": {
        "id": "HxJc_HQcM2lH"
      },
      "execution_count": null,
      "outputs": []
    },
    {
      "cell_type": "code",
      "source": [
        "# Selecting the second-to-last column across all rows using iloc\n",
        "df.iloc[:, -2]"
      ],
      "metadata": {
        "id": "2VQeo9GMNGvH"
      },
      "execution_count": null,
      "outputs": []
    },
    {
      "cell_type": "code",
      "source": [
        "df.head()"
      ],
      "metadata": {
        "id": "F5ptEB5mQ4AN"
      },
      "execution_count": null,
      "outputs": []
    },
    {
      "cell_type": "code",
      "source": [
        "# Fancy indexing: selecting specific rows (by index) across all columns\n",
        "df.iloc[[1, 5, 50, 280, 1000, 1500, 2500], :]"
      ],
      "metadata": {
        "id": "hU4a0L2-OjQY"
      },
      "execution_count": null,
      "outputs": []
    },
    {
      "cell_type": "code",
      "source": [
        "# Fancy indexing: select specific rows and slice specific columns (from 0 to 3, step 2)\n",
        "# This returns columns 0 and 2 for the selected rows\n",
        "df.iloc[[1, 5, 50, 280, 1000, 1500, 2500], :4:2]"
      ],
      "metadata": {
        "id": "1rwdwJSRRE4E"
      },
      "execution_count": null,
      "outputs": []
    },
    {
      "cell_type": "code",
      "source": [
        "# Selecting the last 10 rows and all columns using negative indexing with iloc\n",
        "df.iloc[-10:, :]"
      ],
      "metadata": {
        "id": "A5CtVpCRRSmT"
      },
      "execution_count": null,
      "outputs": []
    },
    {
      "cell_type": "code",
      "source": [
        "# Label-based selection using .loc[row_labels, column_labels]\n",
        "# Selecting all rows for the columns: Brand, Style, and Country\n",
        "df.loc[:, ['Brand', 'Style', 'Country']]"
      ],
      "metadata": {
        "id": "FfRbejddRrWk"
      },
      "execution_count": null,
      "outputs": []
    },
    {
      "cell_type": "code",
      "source": [
        "# Using iloc for implicit indexing: selects rows from index 1 to 3 (excludes the end)\n",
        "df.iloc[1:4]"
      ],
      "metadata": {
        "id": "Z2oukz9xVP8N"
      },
      "execution_count": null,
      "outputs": []
    },
    {
      "cell_type": "code",
      "source": [
        "# Using loc for label-based indexing: selects rows from label 1 to 4 (inclusive)\n",
        "df.loc[1:4]"
      ],
      "metadata": {
        "id": "5-KGd9szYpb6"
      },
      "execution_count": null,
      "outputs": []
    },
    {
      "cell_type": "code",
      "source": [
        "# Using set_index() to set the 'Review #' column as the new index of the DataFrame\n",
        "d_1 = df.set_index(\"Review #\")\n",
        "d_1"
      ],
      "metadata": {
        "id": "cbCQYqDcY-7f"
      },
      "execution_count": null,
      "outputs": []
    },
    {
      "cell_type": "markdown",
      "source": [
        "# **Part 4 : Conditional Selection & Assigning data**"
      ],
      "metadata": {
        "id": "DyDA3EtcbMgD"
      }
    },
    {
      "cell_type": "code",
      "source": [
        "# Display the first 5 rows of the DataFrame for a quick preview\n",
        "df.head()"
      ],
      "metadata": {
        "id": "VyT7TprfbR0n"
      },
      "execution_count": null,
      "outputs": []
    },
    {
      "cell_type": "code",
      "source": [
        "# Question 1: Filter ramen dishes served in Taiwan\n",
        "\n",
        "# Alternative method using boolean indexing\n",
        "# df[df['Country'] == 'Taiwan']\n",
        "\n",
        "# Using .loc for label-based indexing (rows, columns)\n",
        "df.loc[df['Country'] == 'Taiwan', :]"
      ],
      "metadata": {
        "id": "3_PBu8XAHUyb"
      },
      "execution_count": null,
      "outputs": []
    },
    {
      "cell_type": "code",
      "source": [
        "# Question 2: Filter dishes with ratings higher than the average (assumed to be 2.5)\n",
        "\n",
        "# Remove entries with 'Unrated' values in the 'Stars' column\n",
        "df = df.loc[df['Stars'] != 'Unrated']\n",
        "\n",
        "# Convert 'Stars' column to float for numerical comparison\n",
        "df['Stars'] = df['Stars'].astype(float)\n",
        "\n",
        "# Filter dishes with rating greater than 2.5\n",
        "df.loc[df['Stars'] > 2.5]"
      ],
      "metadata": {
        "id": "CZ70ta5yIFUE"
      },
      "execution_count": null,
      "outputs": []
    },
    {
      "cell_type": "code",
      "source": [
        "# Question 3: Filter Taiwanese dishes with ratings above average (2.5)\n",
        "\n",
        "# Combine multiple conditions using logical AND (&) inside .loc\n",
        "df.loc[(df['Country'] == 'Taiwan') & (df['Stars'] > 2.5)]"
      ],
      "metadata": {
        "id": "N35FEnoQKe3f"
      },
      "execution_count": null,
      "outputs": []
    },
    {
      "cell_type": "code",
      "source": [
        "# Question 4: Display only the 'Brand' and 'Style' columns for high-rated dishes from Taiwan\n",
        "df.loc[(df['Country'] == 'Taiwan') & (df['Stars'] > 2.5), ['Brand', 'Style']]"
      ],
      "metadata": {
        "id": "jWD4m-NRMTss"
      },
      "execution_count": null,
      "outputs": []
    },
    {
      "cell_type": "code",
      "source": [
        "# Question 5: Filter dishes served in either Finland or Sweden\n",
        "\n",
        "# Use .isin() to check if 'Country' value exists in the provided list\n",
        "# Alternative method using OR condition:\n",
        "# df.loc[(df['Country'] == 'Finland') | (df['Country'] == 'Sweden')]\n",
        "\n",
        "df.loc[df['Country'].isin(['Finland', 'Sweden'])]"
      ],
      "metadata": {
        "id": "yOSosTYfMy2m"
      },
      "execution_count": null,
      "outputs": []
    },
    {
      "cell_type": "code",
      "source": [
        "# Question 6: Filter rows where the 'Top Ten' column has non-null values\n",
        "\n",
        "# isnull()      → returns True for missing values (NaN)\n",
        "# notnull()     → returns True for existing (non-null) values\n",
        "# ~             → logical NOT operator (inverts boolean values)\n",
        "\n",
        "# Alternative approach using .notnull():\n",
        "# df.loc[df['Top Ten'].notnull()]\n",
        "\n",
        "df.loc[~df['Top Ten'].isnull()]"
      ],
      "metadata": {
        "id": "x52mEhXuOLPN"
      },
      "execution_count": null,
      "outputs": []
    },
    {
      "cell_type": "code",
      "source": [
        "# Assigning data to a column in the DataFrame\n",
        "\n",
        "# Syntax:\n",
        "# df['Column_Name'] = value_or_series"
      ],
      "metadata": {
        "id": "7WDcOa7sQCP5"
      },
      "execution_count": null,
      "outputs": []
    },
    {
      "cell_type": "code",
      "source": [
        "# Create a new boolean column indicating whether the dish style is 'Cup'\n",
        "df['Is_Style_Cup'] = (df['Style'] == 'Cup')\n",
        "df"
      ],
      "metadata": {
        "id": "qKuZx6K2QLLb"
      },
      "execution_count": null,
      "outputs": []
    },
    {
      "cell_type": "code",
      "source": [
        "# Replace the 'Review #' column with ascending integers starting from 1 to 2577\n",
        "\n",
        "# The generated list must match the number of rows in the DataFrame\n",
        "df['Review #'] = list(range(1, 2578))\n",
        "df"
      ],
      "metadata": {
        "id": "psKhHOUBRFPW"
      },
      "execution_count": null,
      "outputs": []
    },
    {
      "cell_type": "markdown",
      "source": [
        "# **Part 5 : Handling Missing Values**"
      ],
      "metadata": {
        "id": "6kxRxwglTHYm"
      }
    },
    {
      "cell_type": "code",
      "source": [
        "# Load real-world dataset: Ramen Ratings from Kaggle\n",
        "# Source: https://www.kaggle.com/datasets/residentmario/ramen-ratings\n",
        "\n",
        "df = pd.read_csv('ramen-ratings.csv')  # Read the dataset into a pandas DataFrame\n",
        "df  # Display the full DataFrame to get an initial look at the data"
      ],
      "metadata": {
        "id": "J9pYHVBuTKtP"
      },
      "execution_count": null,
      "outputs": []
    },
    {
      "cell_type": "code",
      "source": [
        "# Check for missing (NaN) values in each column of the DataFrame\n",
        "# axis=0 means the operation is performed column-wise (i.e., across all rows)\n",
        "\n",
        "df.isnull().sum(axis=0)"
      ],
      "metadata": {
        "id": "gpnXruxem1xi"
      },
      "execution_count": null,
      "outputs": []
    },
    {
      "cell_type": "code",
      "source": [
        "# Calculate the percentage of missing (NaN) values in each column\n",
        "# df.shape returns a tuple: (number of rows, number of columns)\n",
        "# df.shape[0] gives the total number of rows, used here as the denominator to compute the percentage\n",
        "\n",
        "df.isnull().sum(axis=0) / df.shape[0] * 100\n"
      ],
      "metadata": {
        "id": "dasHMvLAnt5n"
      },
      "execution_count": null,
      "outputs": []
    },
    {
      "cell_type": "code",
      "source": [
        "# Overview of the dropna() method used to remove missing (NaN) values from a DataFrame:\n",
        "# -------------------------------------------------------------------------------------\n",
        "\n",
        "# axis (default=0):\n",
        "# - axis=0 or 'index'   → drop rows with missing values.\n",
        "# - axis=1 or 'columns' → drop columns with missing values.\n",
        "\n",
        "# how (default='any'):\n",
        "# - 'any'  → drop if *any* value is missing.\n",
        "# - 'all'  → drop only if *all* values are missing.\n",
        "\n",
        "# thresh:\n",
        "# - Minimum number of non-null values required to keep a row/column.\n",
        "# - Example: thresh=3 keeps only rows/columns with at least 3 non-null values.\n",
        "\n",
        "# subset:\n",
        "# - Specify a list of column names to restrict the null check to specific columns.\n",
        "\n",
        "# inplace (default=False):\n",
        "# - True  → modify the DataFrame directly.\n",
        "# - False → return a new DataFrame with changes.\n",
        "\n",
        "# -------------------------------------------------------------------------------------\n"
      ],
      "metadata": {
        "id": "8ODTCy6GoG7b"
      },
      "execution_count": null,
      "outputs": []
    },
    {
      "cell_type": "code",
      "source": [
        "# Remove all rows that contain at least one missing (NaN) value\n",
        "# axis=0 is equivalent to axis='index', i.e., row-wise operation\n",
        "\n",
        "df.dropna(axis=0)"
      ],
      "metadata": {
        "id": "-Bo3GjOXsIwV"
      },
      "execution_count": null,
      "outputs": []
    },
    {
      "cell_type": "code",
      "source": [
        "# Remove all columns that contain at least one missing (NaN) value\n",
        "# axis=1 is equivalent to axis='columns', i.e., column-wise operation\n",
        "\n",
        "df.dropna(axis=1)"
      ],
      "metadata": {
        "id": "bEXvPnt1ujxn"
      },
      "execution_count": null,
      "outputs": []
    },
    {
      "cell_type": "code",
      "source": [
        "# Apply the change and create a new DataFrame without columns that contain any missing values\n",
        "# Alternative options:\n",
        "# - df = df.dropna(axis=1)       → overwrite the original DataFrame\n",
        "# - df.dropna(axis=0, inplace=True) → drop rows in-place (modifies the original DataFrame)\n",
        "\n",
        "df_1 = df.dropna(axis=1)\n",
        "df_1  # Display the cleaned DataFrame with no missing columns"
      ],
      "metadata": {
        "id": "S0Wo9RbevBuR"
      },
      "execution_count": null,
      "outputs": []
    },
    {
      "cell_type": "code",
      "source": [
        "# Drop only the rows where the 'Top Ten' column contains missing (NaN) values\n",
        "# Other columns may still contain NaNs — this targets one specific column\n",
        "\n",
        "df.dropna(subset=['Top Ten'])"
      ],
      "metadata": {
        "id": "ACbETFlk6ksQ"
      },
      "execution_count": null,
      "outputs": []
    },
    {
      "cell_type": "code",
      "source": [
        "# Overview of the fillna() method used to fill missing (NaN) values in a DataFrame:\n",
        "# -----------------------------------------------------------------------------------\n",
        "\n",
        "# value:\n",
        "# - A specific value (scalar, dict, Series, or DataFrame) to replace missing values.\n",
        "\n",
        "# method:\n",
        "# - Use a method to propagate existing non-null values:\n",
        "#   ▪ 'ffill' (forward fill): use the previous non-null value.\n",
        "#   ▪ 'bfill' (backward fill): use the next non-null value.\n",
        "\n",
        "# axis:\n",
        "# - axis=0 or 'index'   → fill column-wise (i.e., move down the rows).\n",
        "# - axis=1 or 'columns' → fill row-wise (i.e., move across the columns).\n",
        "\n",
        "# inplace (default=False):\n",
        "# - True  → modifies the original DataFrame in place.\n",
        "# - False → returns a new DataFrame with the changes.\n",
        "\n",
        "# -----------------------------------------------------------------------------------\n"
      ],
      "metadata": {
        "id": "lIVTgczR7gIR"
      },
      "execution_count": null,
      "outputs": []
    },
    {
      "cell_type": "code",
      "source": [
        "# Fill all missing (NaN) values in the DataFrame with 0\n",
        "# Useful when 0 is a meaningful default value (e.g., for numeric columns)\n",
        "\n",
        "df_1 = df.fillna(0)\n",
        "df_1  # Display the updated DataFrame with NaNs replaced by 0"
      ],
      "metadata": {
        "id": "Nd7dtzocZ4s6"
      },
      "execution_count": null,
      "outputs": []
    },
    {
      "cell_type": "code",
      "source": [
        "# Filter and display rows where the 'Style' column has missing (NaN) values\n",
        "\n",
        "df_1.loc[df_1['Style'].isnull()]"
      ],
      "metadata": {
        "id": "FdQMZ50YaxJr"
      },
      "execution_count": null,
      "outputs": []
    },
    {
      "cell_type": "code",
      "source": [
        "# Fill missing values with custom values per column:\n",
        "# - 'Style' column → replace NaNs with the string 'Not Available'\n",
        "# - 'Top Ten' column → replace NaNs with -1 (to indicate missing rank or score)\n",
        "\n",
        "df_2 = df.fillna({\"Style\": \"Not Available\", \"Top Ten\": -1})\n",
        "df_2  # Display the updated DataFrame with specified values filled"
      ],
      "metadata": {
        "id": "8WhPeeO0bJCI"
      },
      "execution_count": null,
      "outputs": []
    },
    {
      "cell_type": "code",
      "source": [
        "# Access and display specific rows by index (2152 and 2442) to verify the changes after filling NaN values\n",
        "\n",
        "df_2.iloc[[2152, 2442], :]"
      ],
      "metadata": {
        "id": "NW1SViCTcTHC"
      },
      "execution_count": null,
      "outputs": []
    },
    {
      "cell_type": "code",
      "source": [
        "# Count the frequency of each unique value in the 'Style' column\n",
        "# Useful for understanding the distribution of different noodle styles\n",
        "\n",
        "df['Style'].value_counts()"
      ],
      "metadata": {
        "id": "raFdzyIAceka"
      },
      "execution_count": null,
      "outputs": []
    },
    {
      "cell_type": "code",
      "source": [
        "# Fill all remaining missing values in the DataFrame with the string 'Pack'\n",
        "# Note: This may overwrite NaNs in all columns, not just 'Style'\n",
        "\n",
        "df = df.fillna('Pack')\n",
        "\n",
        "# Recount the frequency of each unique value in the 'Style' column after filling\n",
        "\n",
        "df['Style'].value_counts()"
      ],
      "metadata": {
        "id": "8_xlB3C5dytx"
      },
      "execution_count": null,
      "outputs": []
    },
    {
      "cell_type": "code",
      "source": [
        "# Replace the string 'Unrated' in the 'Stars' column with NaN\n",
        "# This allows us to treat unrated entries as missing values during analysis\n",
        "\n",
        "df['Stars'] = df['Stars'].replace(\"Unrated\", np.nan)"
      ],
      "metadata": {
        "id": "6pXekHVne8nE"
      },
      "execution_count": null,
      "outputs": []
    },
    {
      "cell_type": "code",
      "source": [
        "# Count the number of missing (NaN) values in the 'Stars' column\n",
        "# Useful to verify how many 'Unrated' entries were replaced\n",
        "\n",
        "df.Stars.isnull().sum()"
      ],
      "metadata": {
        "id": "7oEECHsre9vB"
      },
      "execution_count": null,
      "outputs": []
    },
    {
      "cell_type": "code",
      "source": [
        "# Return a Series of all non-missing values in the 'Stars' column\n",
        "# Note: This does NOT modify the original DataFrame\n",
        "\n",
        "df.Stars.dropna()"
      ],
      "metadata": {
        "id": "Gr7y8cSCfzkB"
      },
      "execution_count": null,
      "outputs": []
    },
    {
      "cell_type": "code",
      "source": [
        "# Fill missing values in the 'Stars' column with the mean rating (2.5)\n",
        "# inplace=True updates the original DataFrame directly\n",
        "\n",
        "df[\"Stars\"].fillna(2.5, inplace=True)\n"
      ],
      "metadata": {
        "id": "xhkdBiugf-Sa"
      },
      "execution_count": null,
      "outputs": []
    },
    {
      "cell_type": "code",
      "source": [
        "# Convert the 'Stars' column from object/string to float\n",
        "# This enables numerical operations like averaging, plotting, etc.\n",
        "\n",
        "df[\"Stars\"] = df[\"Stars\"].astype(float)\n",
        "\n",
        "# Count the frequency of each unique star rating (after conversion to float)\n",
        "\n",
        "df[\"Stars\"].value_counts()"
      ],
      "metadata": {
        "id": "hpuWBiY2iIXR"
      },
      "execution_count": null,
      "outputs": []
    }
  ]
}